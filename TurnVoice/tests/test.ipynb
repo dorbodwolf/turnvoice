{
 "cells": [
  {
   "cell_type": "code",
   "execution_count": 2,
   "metadata": {},
   "outputs": [],
   "source": [
    "\n",
    "import os, json\n",
    "def load_transcription_data(directory):\n",
    "    \"\"\"\n",
    "    从目录中加载转录数据。\n",
    "    \n",
    "    :param directory: 包含转录数据的目录路径\n",
    "    :return: 包含单词和转录段落的列表\n",
    "    \"\"\"\n",
    "    \n",
    "    with open(os.path.join(directory, \"vocals_transcript.json\"), 'r', encoding='utf-8') as f:\n",
    "        transcribed_segments = json.load(f)\n",
    "    \n",
    "    return transcribed_segments\n",
    "\n",
    "transcript_root = '/Users/jade_mayer/projects/tts_clone/turnvoice/TurnVoice/turnvoice/core/downloads/htdemucs_ft/Users_jade_mayer_projects_tts_clone_turnvoice_Turn'\n",
    "transcribed_segments = load_transcription_data(transcript_root)"
   ]
  },
  {
   "cell_type": "code",
   "execution_count": 9,
   "metadata": {},
   "outputs": [
    {
     "name": "stdout",
     "output_type": "stream",
     "text": [
      "<class 'dict'>\n",
      "text\n",
      "segments\n",
      "language\n",
      "ori_dict\n",
      "regroup_history\n"
     ]
    }
   ],
   "source": [
    "print(type(transcribed_segments))\n",
    "for seg in transcribed_segments:\n",
    "    print(seg)\n"
   ]
  },
  {
   "cell_type": "code",
   "execution_count": 13,
   "metadata": {},
   "outputs": [
    {
     "name": "stdout",
     "output_type": "stream",
     "text": [
      "<class 'dict'>\n",
      "{'start': 0.578, 'end': 7.68, 'text': ' Quantum computing leverages the principles of quantum mechanics to process information at incredible speeds.', 'seek': 0.0, 'tokens': [44964, 15866, 12451, 1660, 264, 9156, 295, 13018, 12939, 281, 1399, 1589, 412, 4651, 16411, 13], 'temperature': 0.0, 'avg_logprob': -0.23324503549715367, 'compression_ratio': 1.7916666666666667, 'no_speech_prob': 0.0002296473685419187, 'words': [{'word': ' Quantum', 'start': 0.578, 'end': 0.84, 'probability': 0.016949346289038658, 'tokens': [44964], 'segment_id': 0, 'id': 0}, {'word': ' computing', 'start': 0.84, 'end': 1.34, 'probability': 0.23684248328208923, 'tokens': [15866], 'segment_id': 0, 'id': 1}, {'word': ' leverages', 'start': 1.34, 'end': 1.96, 'probability': 0.8553364872932434, 'tokens': [12451, 1660], 'segment_id': 0, 'id': 2}, {'word': ' the', 'start': 1.96, 'end': 2.26, 'probability': 0.7996717095375061, 'tokens': [264], 'segment_id': 0, 'id': 3}, {'word': ' principles', 'start': 2.26, 'end': 2.72, 'probability': 0.77801513671875, 'tokens': [9156], 'segment_id': 0, 'id': 4}, {'word': ' of', 'start': 2.72, 'end': 3.18, 'probability': 0.8940510153770447, 'tokens': [295], 'segment_id': 0, 'id': 5}, {'word': ' quantum', 'start': 3.18, 'end': 3.64, 'probability': 0.7269377708435059, 'tokens': [13018], 'segment_id': 0, 'id': 6}, {'word': ' mechanics', 'start': 3.64, 'end': 4.36, 'probability': 0.8269427418708801, 'tokens': [12939], 'segment_id': 0, 'id': 7}, {'word': ' to', 'start': 4.36, 'end': 5.1, 'probability': 0.7643430829048157, 'tokens': [281], 'segment_id': 0, 'id': 8}, {'word': ' process', 'start': 5.1, 'end': 5.6, 'probability': 0.8605645895004272, 'tokens': [1399], 'segment_id': 0, 'id': 9}, {'word': ' information', 'start': 5.6, 'end': 6.24, 'probability': 0.722345232963562, 'tokens': [1589], 'segment_id': 0, 'id': 10}, {'word': ' at', 'start': 6.24, 'end': 6.62, 'probability': 0.8942804336547852, 'tokens': [412], 'segment_id': 0, 'id': 11}, {'word': ' incredible', 'start': 6.62, 'end': 7.1, 'probability': 0.6979848146438599, 'tokens': [4651], 'segment_id': 0, 'id': 12}, {'word': ' speeds.', 'start': 7.1, 'end': 7.68, 'probability': 0.7348822355270386, 'tokens': [16411, 13], 'segment_id': 0, 'id': 13}], 'id': 0}\n",
      "start\n",
      "end\n",
      "text\n",
      "seek\n",
      "tokens\n",
      "temperature\n",
      "avg_logprob\n",
      "compression_ratio\n",
      "no_speech_prob\n",
      "words\n",
      "id\n"
     ]
    }
   ],
   "source": [
    "for seg in transcribed_segments['segments']:\n",
    "    print(type(seg))\n",
    "    print(seg)\n",
    "    for item in seg:\n",
    "        print(item)\n",
    "    break"
   ]
  }
 ],
 "metadata": {
  "kernelspec": {
   "display_name": "turnvoice",
   "language": "python",
   "name": "python3"
  },
  "language_info": {
   "codemirror_mode": {
    "name": "ipython",
    "version": 3
   },
   "file_extension": ".py",
   "mimetype": "text/x-python",
   "name": "python",
   "nbconvert_exporter": "python",
   "pygments_lexer": "ipython3",
   "version": "3.11.4"
  }
 },
 "nbformat": 4,
 "nbformat_minor": 2
}
